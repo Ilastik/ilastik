{
 "cells": [
  {
   "cell_type": "markdown",
   "id": "manufactured-internship",
   "metadata": {},
   "source": [
    "## Example: How to use the ilastik Python API for Pixel Classification with multiprocessing\n",
    "\n",
    "The first version of the ilastik API allows you to predict your data with a previously trained ilastik project directly from Python.\n",
    "\n",
    "This example shows how to process multiple images in parallel and helps measure speedups\n",
    "\n",
    "Use data courtesy of the flyem team"
   ]
  },
  {
   "cell_type": "code",
   "execution_count": null,
   "id": "52fb094b",
   "metadata": {},
   "outputs": [],
   "source": [
    "# Add your imports here, e.g. for loading and preprocessing data\n",
    "from concurrent import futures\n",
    "from pathlib import Path\n",
    "from time import perf_counter\n",
    "\n",
    "import imageio\n",
    "import numpy\n",
    "import psutil\n",
    "import requests\n",
    "import tqdm\n",
    "from xarray import DataArray\n",
    "\n",
    "from ilastik.experimental.api import from_project_file"
   ]
  },
  {
   "cell_type": "code",
   "execution_count": null,
   "id": "da99f4d0",
   "metadata": {},
   "outputs": [],
   "source": [
    "img_path = Path(\"./imgs\")\n",
    "img_path.mkdir(exist_ok=True)\n",
    "base_url = \"https://data.ilastik.org/flyem\"\n",
    "\n",
    "n_images = 32  # can go up to 99"
   ]
  },
  {
   "cell_type": "code",
   "execution_count": null,
   "id": "ffcc1005",
   "metadata": {},
   "outputs": [],
   "source": [
    "# download the images\n",
    "for i in tqdm.tqdm(range(n_images)):\n",
    "    r = requests.get(f\"{base_url}/iso.26{i:02d}.png\")\n",
    "    (img_path / f\"iso.26{i:02d}.png\").write_bytes(r.content)"
   ]
  },
  {
   "cell_type": "code",
   "execution_count": null,
   "id": "45a5cff3",
   "metadata": {},
   "outputs": [],
   "source": [
    "# naive approach, process each individual file\n",
    "project_file = \"pc.ilp\"\n",
    "pipeline = from_project_file(project_file)\n",
    "\n",
    "predictions_naive = []\n",
    "t0 = perf_counter()\n",
    "for i in tqdm.tqdm(range(n_images)):\n",
    "    image = DataArray(imageio.imread(img_path / f\"iso.26{i:02d}.png\"), dims=(\"y\", \"x\"))\n",
    "    prediction = pipeline.predict(image)\n",
    "    predictions_naive.append(prediction)\n",
    "\n",
    "t_naive = perf_counter() - t0\n",
    "print(f\"Naive execution took {t_naive:.2f} s\")"
   ]
  },
  {
   "cell_type": "code",
   "execution_count": null,
   "id": "ad1f6115",
   "metadata": {},
   "outputs": [],
   "source": [
    "pipeline = from_project_file(\"pc.ilp\")\n",
    "\n",
    "def predict_ilp(image_file):\n",
    "\n",
    "    image = DataArray(imageio.imread(image_file), dims=(\"y\", \"x\"))\n",
    "    prediction = pipeline.predict(image)\n",
    "    print(f\"done {image_file}\")\n",
    "    return prediction\n",
    "\n",
    "\n",
    "# multiprocessing\n",
    "t0 = perf_counter()\n",
    "with futures.ProcessPoolExecutor(max_workers=psutil.cpu_count()) as pool:\n",
    "    futs = pool.map(predict_ilp, [img_path / f\"iso.26{i:02d}.png\" for i in range(n_images)])\n",
    "    predictions_mp = [x for x in futs]\n",
    "t_mp = perf_counter() - t0\n",
    "print(f\"Multiprocessing execution with {psutil.cpu_count()} workers took {t_mp} s\")"
   ]
  },
  {
   "cell_type": "code",
   "execution_count": null,
   "id": "c1b100c4",
   "metadata": {},
   "outputs": [],
   "source": [
    "# sanity check\n",
    "for a, b in zip(predictions_naive, predictions_mp):\n",
    "    numpy.testing.assert_array_equal(a, b)"
   ]
  }
 ],
 "metadata": {
  "kernelspec": {
   "display_name": "Python 3 (ipykernel)",
   "language": "python",
   "name": "python3"
  },
  "language_info": {
   "codemirror_mode": {
    "name": "ipython",
    "version": 3
   },
   "file_extension": ".py",
   "mimetype": "text/x-python",
   "name": "python",
   "nbconvert_exporter": "python",
   "pygments_lexer": "ipython3",
   "version": "3.7.12"
  }
 },
 "nbformat": 4,
 "nbformat_minor": 5
}
